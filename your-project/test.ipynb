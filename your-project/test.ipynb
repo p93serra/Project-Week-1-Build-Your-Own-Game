{
 "cells": [
  {
   "cell_type": "code",
   "execution_count": 6,
   "metadata": {},
   "outputs": [],
   "source": [
    "import random"
   ]
  },
  {
   "cell_type": "code",
   "execution_count": 5,
   "metadata": {},
   "outputs": [],
   "source": [
    "colors = [\"RED\", \"GREEN\", \"YELLOW\", \"BLUE\", \"BLACK\", \"ORANGE\"]\n",
    "\n",
    "colors_map = {1:\"RED\", 2:\"GREEN\", 3:\"YELLOW\", 4:\"BLUE\", 5:\"BLACK\", 6:\"ORANGE\"}\n",
    "\n",
    "#random.shuffle(colors)\n",
    "passcode = colors[:4]\n",
    "\n",
    "chances = 8\n",
    "\n",
    "show_passcode = ['UNK', 'UNK', 'UNK', 'UNK']\n",
    "\n",
    "guess_codes = [['***', '***', '***', '***'] for x in range(chances)]\n",
    "\n",
    "guess_flags = [['*', '*', '*', '*'] for x in range(chances)]\n",
    "\n",
    "turn = 0"
   ]
  },
  {
   "cell_type": "code",
   "execution_count": 8,
   "metadata": {},
   "outputs": [],
   "source": [
    "guess_flags[turn][0] = 'R'\n",
    "guess_flags[turn][2] = 'R'\n",
    "guess_flags[turn][3] = 'W'"
   ]
  },
  {
   "cell_type": "code",
   "execution_count": 11,
   "metadata": {},
   "outputs": [],
   "source": [
    "random.shuffle(guess_flags[turn])"
   ]
  },
  {
   "cell_type": "code",
   "execution_count": 14,
   "metadata": {},
   "outputs": [],
   "source": [
    "guess_flags[turn].sort()"
   ]
  },
  {
   "cell_type": "code",
   "execution_count": 2,
   "metadata": {},
   "outputs": [],
   "source": [
    "#Tutorial : how to use ThorPy with a pre-existing code - step 1\n",
    "import pygame, thorpy\n",
    "pygame.init()\n",
    "pygame.key.set_repeat(300, 30)\n",
    "screen = pygame.display.set_mode((400,400))\n",
    "screen.fill((255,255,255))\n",
    "rect = pygame.Rect((0, 0, 50, 50))\n",
    "rect.center = screen.get_rect().center\n",
    "clock = pygame.time.Clock()\n",
    "\n",
    "pygame.draw.rect(screen, (255,0,0), rect)\n",
    "pygame.display.flip()\n",
    "\n",
    "#declaration of some ThorPy elements ...\n",
    "slider = thorpy.SliderX(100, (12, 35), \"My Slider\")\n",
    "button = thorpy.make_button(\"Quit\", func=thorpy.functions.quit_func)\n",
    "box = thorpy.Box(elements=[slider,button])\n",
    "#we regroup all elements on a menu, even if we do not launch the menu\n",
    "menu = thorpy.Menu(box)\n",
    "#important : set the screen as surface for all elements\n",
    "for element in menu.get_population():\n",
    "    element.surface = screen\n",
    "#use the elements normally...\n",
    "box.set_topleft((100,100))\n",
    "box.blit()\n",
    "box.update()\n",
    "\n",
    "playing_game = True\n",
    "while playing_game:\n",
    "    clock.tick(45)\n",
    "    for event in pygame.event.get():\n",
    "        if event.type == pygame.QUIT:\n",
    "            playing_game = False\n",
    "            break\n",
    "        elif event.type == pygame.KEYDOWN:\n",
    "            if event.key == pygame.K_LEFT:\n",
    "                pygame.draw.rect(screen, (255,255,255), rect) #delete old\n",
    "                pygame.display.update(rect)\n",
    "                rect.move_ip((-5,0))\n",
    "                pygame.draw.rect(screen, (255,0,0), rect) #drat new\n",
    "                pygame.display.update(rect)\n",
    "        menu.react(event) #the menu automatically integrate your elements\n",
    "\n",
    "pygame.quit()"
   ]
  },
  {
   "cell_type": "code",
   "execution_count": null,
   "metadata": {},
   "outputs": [],
   "source": []
  }
 ],
 "metadata": {
  "kernelspec": {
   "display_name": "Python 3",
   "language": "python",
   "name": "python3"
  },
  "language_info": {
   "codemirror_mode": {
    "name": "ipython",
    "version": 3
   },
   "file_extension": ".py",
   "mimetype": "text/x-python",
   "name": "python",
   "nbconvert_exporter": "python",
   "pygments_lexer": "ipython3",
   "version": "3.9.0"
  },
  "varInspector": {
   "cols": {
    "lenName": 16,
    "lenType": 16,
    "lenVar": 40
   },
   "kernels_config": {
    "python": {
     "delete_cmd_postfix": "",
     "delete_cmd_prefix": "del ",
     "library": "var_list.py",
     "varRefreshCmd": "print(var_dic_list())"
    },
    "r": {
     "delete_cmd_postfix": ") ",
     "delete_cmd_prefix": "rm(",
     "library": "var_list.r",
     "varRefreshCmd": "cat(var_dic_list()) "
    }
   },
   "position": {
    "height": "227.4px",
    "left": "1166px",
    "right": "20px",
    "top": "120px",
    "width": "350px"
   },
   "types_to_exclude": [
    "module",
    "function",
    "builtin_function_or_method",
    "instance",
    "_Feature"
   ],
   "window_display": false
  }
 },
 "nbformat": 4,
 "nbformat_minor": 4
}
